{
 "cells": [
  {
   "cell_type": "code",
   "execution_count": null,
   "id": "3120958a",
   "metadata": {},
   "outputs": [],
   "source": [
    "from pint import UnitRegistry"
   ]
  },
  {
   "cell_type": "code",
   "execution_count": null,
   "id": "740da0e4",
   "metadata": {},
   "outputs": [],
   "source": [
    "ureg = UnitRegistry()\n",
    "quantite = 30.0*ureg.meter\n",
    "print(quantite)"
   ]
  }
 ],
 "metadata": {
  "kernelspec": {
   "display_name": "Python (Optimisation nutrition)",
   "language": "python",
   "name": "optimisation_nutrition"
  },
  "language_info": {
   "codemirror_mode": {
    "name": "ipython",
    "version": 3
   },
   "file_extension": ".py",
   "mimetype": "text/x-python",
   "name": "python",
   "nbconvert_exporter": "python",
   "pygments_lexer": "ipython3",
   "version": "3.13.9"
  }
 },
 "nbformat": 4,
 "nbformat_minor": 5
}
