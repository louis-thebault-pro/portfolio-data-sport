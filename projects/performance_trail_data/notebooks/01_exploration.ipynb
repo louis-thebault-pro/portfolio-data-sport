{
 "cells": [
  {
   "cell_type": "code",
   "execution_count": null,
   "id": "d3b755a8-00a1-49a6-bb36-ec86194dddef",
   "metadata": {},
   "outputs": [],
   "source": []
  },
  {
   "cell_type": "code",
   "execution_count": null,
   "id": "68232498-e682-4a9e-af71-f4b8d33f61c0",
   "metadata": {},
   "outputs": [],
   "source": []
  }
 ],
 "metadata": {
  "kernelspec": {
   "display_name": "performance_trail_data (.venv)",
   "language": "python",
   "name": "performance_trail_data"
  },
  "language_info": {
   "codemirror_mode": {
    "name": "ipython",
    "version": 3
   },
   "file_extension": ".py",
   "mimetype": "text/x-python",
   "name": "python",
   "nbconvert_exporter": "python",
   "pygments_lexer": "ipython3",
   "version": "3.13.7"
  }
 },
 "nbformat": 4,
 "nbformat_minor": 5
}
